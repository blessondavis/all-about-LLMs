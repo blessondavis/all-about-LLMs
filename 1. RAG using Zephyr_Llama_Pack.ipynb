{
  "nbformat": 4,
  "nbformat_minor": 0,
  "metadata": {
    "colab": {
      "provenance": [],
      "machine_shape": "hm",
      "gpuType": "T4"
    },
    "kernelspec": {
      "name": "python3",
      "display_name": "Python 3"
    },
    "language_info": {
      "name": "python"
    },
    "accelerator": "GPU",
    "widgets": {
      "application/vnd.jupyter.widget-state+json": {
        "5806e375856342d6a3dc6ddf4051aa31": {
          "model_module": "@jupyter-widgets/controls",
          "model_name": "HBoxModel",
          "model_module_version": "1.5.0",
          "state": {
            "_dom_classes": [],
            "_model_module": "@jupyter-widgets/controls",
            "_model_module_version": "1.5.0",
            "_model_name": "HBoxModel",
            "_view_count": null,
            "_view_module": "@jupyter-widgets/controls",
            "_view_module_version": "1.5.0",
            "_view_name": "HBoxView",
            "box_style": "",
            "children": [
              "IPY_MODEL_6ae9924931d44fabb2da2f3a3c47326a",
              "IPY_MODEL_70dd9c11636346f780884b581d5345a5",
              "IPY_MODEL_e3c94fadedb840ac9f32be4e712f3453"
            ],
            "layout": "IPY_MODEL_683942e3e2474dffa05c9eb1fa89dba1"
          }
        },
        "6ae9924931d44fabb2da2f3a3c47326a": {
          "model_module": "@jupyter-widgets/controls",
          "model_name": "HTMLModel",
          "model_module_version": "1.5.0",
          "state": {
            "_dom_classes": [],
            "_model_module": "@jupyter-widgets/controls",
            "_model_module_version": "1.5.0",
            "_model_name": "HTMLModel",
            "_view_count": null,
            "_view_module": "@jupyter-widgets/controls",
            "_view_module_version": "1.5.0",
            "_view_name": "HTMLView",
            "description": "",
            "description_tooltip": null,
            "layout": "IPY_MODEL_3c59b1978d6240f5b66e80d7a37edc38",
            "placeholder": "​",
            "style": "IPY_MODEL_899ad1924ed846729dbf3d55a1b0f6e7",
            "value": "Loading checkpoint shards: 100%"
          }
        },
        "70dd9c11636346f780884b581d5345a5": {
          "model_module": "@jupyter-widgets/controls",
          "model_name": "FloatProgressModel",
          "model_module_version": "1.5.0",
          "state": {
            "_dom_classes": [],
            "_model_module": "@jupyter-widgets/controls",
            "_model_module_version": "1.5.0",
            "_model_name": "FloatProgressModel",
            "_view_count": null,
            "_view_module": "@jupyter-widgets/controls",
            "_view_module_version": "1.5.0",
            "_view_name": "ProgressView",
            "bar_style": "success",
            "description": "",
            "description_tooltip": null,
            "layout": "IPY_MODEL_c472cad0b327455cb0641051c93aae0c",
            "max": 8,
            "min": 0,
            "orientation": "horizontal",
            "style": "IPY_MODEL_6ea2755857ec4de98f532d1c32db1529",
            "value": 8
          }
        },
        "e3c94fadedb840ac9f32be4e712f3453": {
          "model_module": "@jupyter-widgets/controls",
          "model_name": "HTMLModel",
          "model_module_version": "1.5.0",
          "state": {
            "_dom_classes": [],
            "_model_module": "@jupyter-widgets/controls",
            "_model_module_version": "1.5.0",
            "_model_name": "HTMLModel",
            "_view_count": null,
            "_view_module": "@jupyter-widgets/controls",
            "_view_module_version": "1.5.0",
            "_view_name": "HTMLView",
            "description": "",
            "description_tooltip": null,
            "layout": "IPY_MODEL_f1c477347f4b4ac4b420e35fe6f58491",
            "placeholder": "​",
            "style": "IPY_MODEL_e3383bfbf99c47638d5d53e0a1436c4e",
            "value": " 8/8 [01:06&lt;00:00,  7.19s/it]"
          }
        },
        "683942e3e2474dffa05c9eb1fa89dba1": {
          "model_module": "@jupyter-widgets/base",
          "model_name": "LayoutModel",
          "model_module_version": "1.2.0",
          "state": {
            "_model_module": "@jupyter-widgets/base",
            "_model_module_version": "1.2.0",
            "_model_name": "LayoutModel",
            "_view_count": null,
            "_view_module": "@jupyter-widgets/base",
            "_view_module_version": "1.2.0",
            "_view_name": "LayoutView",
            "align_content": null,
            "align_items": null,
            "align_self": null,
            "border": null,
            "bottom": null,
            "display": null,
            "flex": null,
            "flex_flow": null,
            "grid_area": null,
            "grid_auto_columns": null,
            "grid_auto_flow": null,
            "grid_auto_rows": null,
            "grid_column": null,
            "grid_gap": null,
            "grid_row": null,
            "grid_template_areas": null,
            "grid_template_columns": null,
            "grid_template_rows": null,
            "height": null,
            "justify_content": null,
            "justify_items": null,
            "left": null,
            "margin": null,
            "max_height": null,
            "max_width": null,
            "min_height": null,
            "min_width": null,
            "object_fit": null,
            "object_position": null,
            "order": null,
            "overflow": null,
            "overflow_x": null,
            "overflow_y": null,
            "padding": null,
            "right": null,
            "top": null,
            "visibility": null,
            "width": null
          }
        },
        "3c59b1978d6240f5b66e80d7a37edc38": {
          "model_module": "@jupyter-widgets/base",
          "model_name": "LayoutModel",
          "model_module_version": "1.2.0",
          "state": {
            "_model_module": "@jupyter-widgets/base",
            "_model_module_version": "1.2.0",
            "_model_name": "LayoutModel",
            "_view_count": null,
            "_view_module": "@jupyter-widgets/base",
            "_view_module_version": "1.2.0",
            "_view_name": "LayoutView",
            "align_content": null,
            "align_items": null,
            "align_self": null,
            "border": null,
            "bottom": null,
            "display": null,
            "flex": null,
            "flex_flow": null,
            "grid_area": null,
            "grid_auto_columns": null,
            "grid_auto_flow": null,
            "grid_auto_rows": null,
            "grid_column": null,
            "grid_gap": null,
            "grid_row": null,
            "grid_template_areas": null,
            "grid_template_columns": null,
            "grid_template_rows": null,
            "height": null,
            "justify_content": null,
            "justify_items": null,
            "left": null,
            "margin": null,
            "max_height": null,
            "max_width": null,
            "min_height": null,
            "min_width": null,
            "object_fit": null,
            "object_position": null,
            "order": null,
            "overflow": null,
            "overflow_x": null,
            "overflow_y": null,
            "padding": null,
            "right": null,
            "top": null,
            "visibility": null,
            "width": null
          }
        },
        "899ad1924ed846729dbf3d55a1b0f6e7": {
          "model_module": "@jupyter-widgets/controls",
          "model_name": "DescriptionStyleModel",
          "model_module_version": "1.5.0",
          "state": {
            "_model_module": "@jupyter-widgets/controls",
            "_model_module_version": "1.5.0",
            "_model_name": "DescriptionStyleModel",
            "_view_count": null,
            "_view_module": "@jupyter-widgets/base",
            "_view_module_version": "1.2.0",
            "_view_name": "StyleView",
            "description_width": ""
          }
        },
        "c472cad0b327455cb0641051c93aae0c": {
          "model_module": "@jupyter-widgets/base",
          "model_name": "LayoutModel",
          "model_module_version": "1.2.0",
          "state": {
            "_model_module": "@jupyter-widgets/base",
            "_model_module_version": "1.2.0",
            "_model_name": "LayoutModel",
            "_view_count": null,
            "_view_module": "@jupyter-widgets/base",
            "_view_module_version": "1.2.0",
            "_view_name": "LayoutView",
            "align_content": null,
            "align_items": null,
            "align_self": null,
            "border": null,
            "bottom": null,
            "display": null,
            "flex": null,
            "flex_flow": null,
            "grid_area": null,
            "grid_auto_columns": null,
            "grid_auto_flow": null,
            "grid_auto_rows": null,
            "grid_column": null,
            "grid_gap": null,
            "grid_row": null,
            "grid_template_areas": null,
            "grid_template_columns": null,
            "grid_template_rows": null,
            "height": null,
            "justify_content": null,
            "justify_items": null,
            "left": null,
            "margin": null,
            "max_height": null,
            "max_width": null,
            "min_height": null,
            "min_width": null,
            "object_fit": null,
            "object_position": null,
            "order": null,
            "overflow": null,
            "overflow_x": null,
            "overflow_y": null,
            "padding": null,
            "right": null,
            "top": null,
            "visibility": null,
            "width": null
          }
        },
        "6ea2755857ec4de98f532d1c32db1529": {
          "model_module": "@jupyter-widgets/controls",
          "model_name": "ProgressStyleModel",
          "model_module_version": "1.5.0",
          "state": {
            "_model_module": "@jupyter-widgets/controls",
            "_model_module_version": "1.5.0",
            "_model_name": "ProgressStyleModel",
            "_view_count": null,
            "_view_module": "@jupyter-widgets/base",
            "_view_module_version": "1.2.0",
            "_view_name": "StyleView",
            "bar_color": null,
            "description_width": ""
          }
        },
        "f1c477347f4b4ac4b420e35fe6f58491": {
          "model_module": "@jupyter-widgets/base",
          "model_name": "LayoutModel",
          "model_module_version": "1.2.0",
          "state": {
            "_model_module": "@jupyter-widgets/base",
            "_model_module_version": "1.2.0",
            "_model_name": "LayoutModel",
            "_view_count": null,
            "_view_module": "@jupyter-widgets/base",
            "_view_module_version": "1.2.0",
            "_view_name": "LayoutView",
            "align_content": null,
            "align_items": null,
            "align_self": null,
            "border": null,
            "bottom": null,
            "display": null,
            "flex": null,
            "flex_flow": null,
            "grid_area": null,
            "grid_auto_columns": null,
            "grid_auto_flow": null,
            "grid_auto_rows": null,
            "grid_column": null,
            "grid_gap": null,
            "grid_row": null,
            "grid_template_areas": null,
            "grid_template_columns": null,
            "grid_template_rows": null,
            "height": null,
            "justify_content": null,
            "justify_items": null,
            "left": null,
            "margin": null,
            "max_height": null,
            "max_width": null,
            "min_height": null,
            "min_width": null,
            "object_fit": null,
            "object_position": null,
            "order": null,
            "overflow": null,
            "overflow_x": null,
            "overflow_y": null,
            "padding": null,
            "right": null,
            "top": null,
            "visibility": null,
            "width": null
          }
        },
        "e3383bfbf99c47638d5d53e0a1436c4e": {
          "model_module": "@jupyter-widgets/controls",
          "model_name": "DescriptionStyleModel",
          "model_module_version": "1.5.0",
          "state": {
            "_model_module": "@jupyter-widgets/controls",
            "_model_module_version": "1.5.0",
            "_model_name": "DescriptionStyleModel",
            "_view_count": null,
            "_view_module": "@jupyter-widgets/base",
            "_view_module_version": "1.2.0",
            "_view_name": "StyleView",
            "description_width": ""
          }
        }
      }
    }
  },
  "cells": [
    {
      "cell_type": "markdown",
      "source": [
        "## Installing required dependencies"
      ],
      "metadata": {
        "id": "Ev3c1zVZkETT"
      }
    },
    {
      "cell_type": "code",
      "execution_count": 1,
      "metadata": {
        "id": "HH4sdZWFAsoe"
      },
      "outputs": [],
      "source": [
        "!pip install llama-index llama-hub"
      ]
    },
    {
      "cell_type": "code",
      "source": [
        "import locale\n",
        "def getpreferredencoding(do_setlocale = True):\n",
        "    return \"UTF-8\"\n",
        "locale.getpreferredencoding = getpreferredencoding"
      ],
      "metadata": {
        "id": "uPlN1-BbPJIl"
      },
      "execution_count": 2,
      "outputs": []
    },
    {
      "cell_type": "code",
      "source": [
        "!pip3 install pypdf"
      ],
      "metadata": {
        "id": "GLZlZw9wPL1g",
        "outputId": "5bee465e-a0b2-4374-b8f0-2aead8d6b306",
        "colab": {
          "base_uri": "https://localhost:8080/"
        }
      },
      "execution_count": 3,
      "outputs": [
        {
          "output_type": "stream",
          "name": "stdout",
          "text": [
            "Requirement already satisfied: pypdf in /usr/local/lib/python3.10/dist-packages (3.17.1)\n"
          ]
        }
      ]
    },
    {
      "cell_type": "markdown",
      "source": [
        "## Import a file that you want to query\n",
        "For this tutorial, you can either use some pdfs in the root directory or run the following command. SimpleDirectoryReader allows you to use files with any extensions."
      ],
      "metadata": {
        "id": "RMmf7hQqkOE9"
      }
    },
    {
      "cell_type": "code",
      "source": [
        "# download pg essay\n",
        "!wget \"https://www.dropbox.com/s/f6bmb19xdg0xedm/paul_graham_essay.txt?dl=1\" -O paul_graham_essay.txt"
      ],
      "metadata": {
        "id": "oSbKJBMwBqtD"
      },
      "execution_count": null,
      "outputs": []
    },
    {
      "cell_type": "code",
      "source": [
        "# setup data\n",
        "from llama_index import SimpleDirectoryReader\n",
        "\n",
        "# load in some sample data\n",
        "reader = SimpleDirectoryReader(input_files=[\"JSPL-Prod.pdf\", \"JSW_Steel_Prod.pdf\", \"Tata_Steel_Prod.pdf\"])\n",
        "documents = reader.load_data()"
      ],
      "metadata": {
        "id": "3hzI3O0CBxgS"
      },
      "execution_count": 4,
      "outputs": []
    },
    {
      "cell_type": "markdown",
      "source": [
        "## Loading Zephyr Model using Llamaindex Llama Pack"
      ],
      "metadata": {
        "id": "KX94z52Skwja"
      }
    },
    {
      "cell_type": "code",
      "source": [
        "from llama_index.llama_pack import download_llama_pack\n",
        "\n",
        "# download and install dependencies\n",
        "ZephyrQueryEnginePack = download_llama_pack(\n",
        "  \"ZephyrQueryEnginePack\", \"./zephyr_pack\"\n",
        ")"
      ],
      "metadata": {
        "id": "eQZoVKDQBmdm"
      },
      "execution_count": 5,
      "outputs": []
    },
    {
      "cell_type": "code",
      "source": [
        "%%time\n",
        "# You can use any llama-hub loader to get documents!\n",
        "zephyr_pack = ZephyrQueryEnginePack(documents)"
      ],
      "metadata": {
        "colab": {
          "base_uri": "https://localhost:8080/",
          "height": 85,
          "referenced_widgets": [
            "5806e375856342d6a3dc6ddf4051aa31",
            "6ae9924931d44fabb2da2f3a3c47326a",
            "70dd9c11636346f780884b581d5345a5",
            "e3c94fadedb840ac9f32be4e712f3453",
            "683942e3e2474dffa05c9eb1fa89dba1",
            "3c59b1978d6240f5b66e80d7a37edc38",
            "899ad1924ed846729dbf3d55a1b0f6e7",
            "c472cad0b327455cb0641051c93aae0c",
            "6ea2755857ec4de98f532d1c32db1529",
            "f1c477347f4b4ac4b420e35fe6f58491",
            "e3383bfbf99c47638d5d53e0a1436c4e"
          ]
        },
        "id": "Wa-2YPFjB5CR",
        "outputId": "0a304f69-ebaf-427d-81ec-5c594f0c5508"
      },
      "execution_count": 6,
      "outputs": [
        {
          "output_type": "display_data",
          "data": {
            "text/plain": [
              "Loading checkpoint shards:   0%|          | 0/8 [00:00<?, ?it/s]"
            ],
            "application/vnd.jupyter.widget-view+json": {
              "version_major": 2,
              "version_minor": 0,
              "model_id": "5806e375856342d6a3dc6ddf4051aa31"
            }
          },
          "metadata": {}
        },
        {
          "output_type": "stream",
          "name": "stdout",
          "text": [
            "CPU times: user 22.5 s, sys: 17 s, total: 39.5 s\n",
            "Wall time: 1min 31s\n"
          ]
        }
      ]
    },
    {
      "cell_type": "markdown",
      "source": [
        "## Run your query against the data"
      ],
      "metadata": {
        "id": "D3e6F9R-lIr-"
      }
    },
    {
      "cell_type": "code",
      "source": [
        "# run query\n",
        "response = zephyr_pack.run(\"How does JSPL's production compare to tata steel production for the year 2022-2023\", similarity_top_k=3)\n",
        "print(str(response))"
      ],
      "metadata": {
        "colab": {
          "base_uri": "https://localhost:8080/"
        },
        "id": "Xvyd9LdDCAUx",
        "outputId": "f10e1a47-aeaa-4f25-b0aa-48e4dd252d9d"
      },
      "execution_count": 7,
      "outputs": [
        {
          "output_type": "stream",
          "name": "stderr",
          "text": [
            "/usr/local/lib/python3.10/dist-packages/transformers/generation/utils.py:1473: UserWarning: You have modified the pretrained model configuration to control generation. This is a deprecated strategy to control generation and will be removed soon, in a future version. Please use and modify the model generation configuration (see https://huggingface.co/docs/transformers/generation_strategies#default-text-generation-configuration )\n",
            "  warnings.warn(\n"
          ]
        },
        {
          "output_type": "stream",
          "name": "stdout",
          "text": [
            "The provided context information does not include production figures for Tata Steel for the year 2022-2023. Therefore, it is not possible to compare JSPL's production to that of Tata Steel for this specific year. However, as per the latest annual reports, in the financial year ended March 2021, Tata Steel reported a crude steel production of 12.1 million tonnes, while JSPL's crude steel production for the same period was 20.87 million tonnes. So, JSPL's production was significantly higher than that of Tata Steel in the previous financial year. It is advisable to refer to the latest annual reports for updated production figures.\n"
          ]
        }
      ]
    },
    {
      "cell_type": "code",
      "source": [
        "# inspect modules in zephyr pack\n",
        "print(zephyr_pack.get_modules().keys())"
      ],
      "metadata": {
        "colab": {
          "base_uri": "https://localhost:8080/"
        },
        "id": "toKOcHlLCu5o",
        "outputId": "54f32b52-73b9-441a-c28d-d6c3caf63ca9"
      },
      "execution_count": 8,
      "outputs": [
        {
          "output_type": "stream",
          "name": "stdout",
          "text": [
            "dict_keys(['llm', 'index'])\n"
          ]
        }
      ]
    },
    {
      "cell_type": "markdown",
      "source": [
        "## See the extracted chunks for a given query"
      ],
      "metadata": {
        "id": "7tGqaMXIlSN2"
      }
    },
    {
      "cell_type": "code",
      "source": [
        "# Use the index directly\n",
        "index = zephyr_pack.index\n",
        "query_engine = index.as_query_engine()\n",
        "retriever = index.as_retriever(similarity_top_k=4)"
      ],
      "metadata": {
        "id": "cwYe8tbQC5Wx"
      },
      "execution_count": 9,
      "outputs": []
    },
    {
      "cell_type": "code",
      "source": [
        "from llama_index.response.notebook_utils import display_source_node\n",
        "results = retriever.retrieve(\"How does JSPL's production compare to tata steel production for the year 2022-2023\")\n",
        "for n in results:\n",
        "  display_source_node(n, source_length=1000)"
      ],
      "metadata": {
        "colab": {
          "base_uri": "https://localhost:8080/",
          "height": 833
        },
        "id": "5quxn3FWC-NZ",
        "outputId": "b5ef025a-8868-4bc1-fc8f-b46e2b27763b"
      },
      "execution_count": 11,
      "outputs": [
        {
          "output_type": "display_data",
          "data": {
            "text/plain": [
              "<IPython.core.display.Markdown object>"
            ],
            "text/markdown": "**Node ID:** 32552487-e545-4c1b-b80c-dca1db5c48bc<br>**Similarity:** 0.7384214292422069<br>**Text:** Manufactured \nCapital\nCatalysing Growth for the Future\nWe envision a future where steel continues to play a \npivotal role in shaping the world. Therefore, we remain dedicated to consistently expanding our capacity to produce efficient and environmentally friendly steel. In line with our growth aspirations, we are strengthening our business through a brownfield expansion at Angul.\nBUILDING AN  \nENGINEERING MARVEL \nWe are resolute in our commitment to realising the vision of \nestablishing the Angul steel plant as the largest and greenest single-location steel plant. With India’s ambitious target of achieving a steel manufacturing capacity of 300 MTPA by 2030, JSP aspires to be at the forefront of driving this objective to fruition.\nIn the first phase, the Angul plant will expand its steel production \ncapacity to 12 MTPA by 2025. Subsequently, our objective is to further augment the capacity of the Angul plant from 6 MTPA to 25.2 MTPA, utilising clean energy resources. \nJSP’s capacity ...<br>"
          },
          "metadata": {}
        },
        {
          "output_type": "display_data",
          "data": {
            "text/plain": [
              "<IPython.core.display.Markdown object>"
            ],
            "text/markdown": "**Node ID:** 3c40d5a2-9771-4fec-8d2f-5154d513f006<br>**Similarity:** 0.7240524947873712<br>**Text:** Inherent demand from the auto and construction and infrastructure segments remains \nstrong, which supported overall steel consumption during the period under review.6.1.1 Production and sales\nIn FY 2022-23, the Company reported its highest ever crude steel production at 20.87 MnT, with an average capacity utilisation level of 91% as against capacity utilisation of 89% in FY 2021-22. The crude steel production increased by 18% y-o-y primarily due to ramp up of Dolvi Phase II expansion of 5 MTPA which was commissioned in FY 2021-22. \nDuring the year, the Company reported its highest-ever \ngrowth in steel sales volume at 19.67 MnT, up by 19% y-o-y. The Company exported 1.8 MnT of steel, lower by 50% y-o-y, and accounted for 9% of the total sales, as against 22% in FY 2021-22. Domestic sales stood at 17.90 MnT, an increase of 38% y-o-y driven by domestic demand for steel. The domestic steel demand grew by 13% y-o-y to 120 MnT primarily due to Government’s thrust on infra, housing and in...<br>"
          },
          "metadata": {}
        },
        {
          "output_type": "display_data",
          "data": {
            "text/plain": [
              "<IPython.core.display.Markdown object>"
            ],
            "text/markdown": "**Node ID:** 9cb4de3d-87d0-4c14-b766-cc104d5f7f7f<br>**Similarity:** 0.7191702138703979<br>**Text:** STEEL MANUFACTURING\nWe stand as one of the prominent steel producers in India, \nboasting an annual steel capacity of 9.6 MTPA spread across Odisha, Jharkhand, and Chhattisgarh. With our comprehensive presence throughout the steel value chain, we possess the agility to oversee our products at various production stages. \nOur primary emphasis lies in the production of high-value \nproducts, including long products and specialty-grade flats. To manufacture these high-value products, we utilise our rail and universal beam mills, plate mills, medium and light section mills, and bar mills.SUPPLY CHAIN\nIron Making\nDRI\n3.12   MTPA\nAngul: 1.8 MTPA\nRaigarh: 1.32 MTPABlast Furnace\n7. 30  MTPA\nAngul: 4.25 MTPARaigarh: 3.05 MTPAFinished Steel\nWRM\n0.6  MTPA\nPatratu:  0.6 MTPA\nSPM\n0.7  MTPA\nRaigarh:  0.7 MTPA\nPlate Mill\n2.2  MTPA\nAngul: 1.2 MTPARaigarh: 1 MTPABRM\n2.4  MTPA\nAngul:  1.4 MTPA\nPatratu: 1 MTPARail Mill\n0.75  MTPA\nRaigarh: 0.75 MTPAFind out more about products here:  \nhttps://www.jindalst...<br>"
          },
          "metadata": {}
        },
        {
          "output_type": "display_data",
          "data": {
            "text/plain": [
              "<IPython.core.display.Markdown object>"
            ],
            "text/markdown": "**Node ID:** 0a16f236-7f76-4f3f-a4a1-cbe9e7e9b1e7<br>**Similarity:** 0.7188562894632112<br>**Text:** 116th Year Integrated Report & Annual Accounts 2022-23228\n30.65 MnT as against 31.03 MnT of FY2021-22, a marginal \ndecline of 1%. The production increased at Tata Steel \nLimited (Standalone) by 3%, to 18.97 MnT, (FY2021-22: \n18.38 MnT), Tata Steel Europe (‘ TSE ’) produced 9.35 \nMnT, lower by 8% (FY2021-22: 10.11 MnT) as TSUK \nundertook a significant maintenance programme focused \non its steelmaking assets in Port Talbot in order to \nimprove operational stability along with weakening \nof market during the 2nd half of the financial year. Tata \nSteel Long Products (standalone) produced 0.71 MnT  \n(FY2021-22: 0.68 MnT). Moreover, with the completion of \nthe acquisition of Neelachal Ispat Nigam Limited (‘ NINL ’) \nduring the year, the production further increased by  \n0.20 MnT. Production at South-East Asia (‘ SEA ’)  \nwas 1.43 MnT (FY2021-22: 1.86 MnT) which was lower due \nto disposal of Singapore operations of NatSteel Holdings \nPte. Ltd. (‘ NSH ’) during FY2021-22. The consolidated s...<br>"
          },
          "metadata": {}
        }
      ]
    },
    {
      "cell_type": "code",
      "source": [],
      "metadata": {
        "id": "sz-SsupaDGfg"
      },
      "execution_count": null,
      "outputs": []
    }
  ]
}